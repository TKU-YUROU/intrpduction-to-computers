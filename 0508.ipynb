{
  "nbformat": 4,
  "nbformat_minor": 0,
  "metadata": {
    "colab": {
      "provenance": [],
      "authorship_tag": "ABX9TyOGKEQrafQBNf2ZeNFdyLg5",
      "include_colab_link": true
    },
    "kernelspec": {
      "name": "python3",
      "display_name": "Python 3"
    },
    "language_info": {
      "name": "python"
    }
  },
  "cells": [
    {
      "cell_type": "markdown",
      "metadata": {
        "id": "view-in-github",
        "colab_type": "text"
      },
      "source": [
        "<a href=\"https://colab.research.google.com/github/TKU-YUROU/intrpduction-to-computers/blob/main/0508.ipynb\" target=\"_parent\"><img src=\"https://colab.research.google.com/assets/colab-badge.svg\" alt=\"Open In Colab\"/></a>"
      ]
    },
    {
      "cell_type": "code",
      "execution_count": 14,
      "metadata": {
        "colab": {
          "base_uri": "https://localhost:8080/"
        },
        "id": "f0U6ovgNIhSR",
        "outputId": "eec8271f-5b35-4b5d-8d67-74b549a0c51b"
      },
      "outputs": [
        {
          "output_type": "stream",
          "name": "stdout",
          "text": [
            "17\n",
            "17.0 體溫異常，請重新測量!\n"
          ]
        }
      ],
      "source": [
        "num=float(input())\n",
        "if(num >= 0 and num <= 100):\n",
        "  if(num >= 37.5):\n",
        "   print('{} 體溫過高!'.format(num))\n",
        "  elif(num >= 37 and num  <=37.5 ):\n",
        "   print('{} 體溫略高!'.format(num))\n",
        "  elif(num >= 34 and num <= 36.9):\n",
        "   print('{} 體溫正常!'.format(num))\n",
        "  else:\n",
        "   print('{} 體溫異常，請重新測量!'.format(num))"
      ]
    },
    {
      "cell_type": "code",
      "source": [
        "score=int(input('請輸入成績'))\n",
        "if(score >= 0 and score <= 100):\n",
        "  if(score>=90):\n",
        "   print('A')\n",
        "  elif(score>=80 and score<=89):\n",
        "   print('B')\n",
        "  elif(score>=70 and score<=79):\n",
        "   print('C')\n",
        "  elif(score>=60 and score<=69):\n",
        "   print('D')\n",
        "  else:\n",
        "   print('E')\n",
        ""
      ],
      "metadata": {
        "colab": {
          "base_uri": "https://localhost:8080/"
        },
        "id": "u7e0uTBCK3Ry",
        "outputId": "513950cc-12a5-4ae9-89b7-cb79fa23d608"
      },
      "execution_count": 20,
      "outputs": [
        {
          "output_type": "stream",
          "name": "stdout",
          "text": [
            "請輸入成績79\n",
            "C\n"
          ]
        }
      ]
    },
    {
      "cell_type": "code",
      "source": [
        "month=int(input())\n",
        "if(month >= 1 and month <= 12):\n",
        "  if(month==3 or month==4 or month==5):\n",
        "   print('{} 月是春天'.format(month))\n",
        "  elif(month==6 or month==7 or month==8):\n",
        "   print('{} 月是夏天'.format(month))\n",
        "  elif(month==9 or month==10 or month==11):\n",
        "   print('{} 月是秋天'.format(month))\n",
        "  else:\n",
        "   print('{} 月是冬天'.format(month))\n",
        "else:\n",
        "  print('月份不再範圍內')"
      ],
      "metadata": {
        "colab": {
          "base_uri": "https://localhost:8080/"
        },
        "id": "EdLjLLhLK3c-",
        "outputId": "0dde31ad-4b1e-4136-eff0-54b256033134"
      },
      "execution_count": 16,
      "outputs": [
        {
          "output_type": "stream",
          "name": "stdout",
          "text": [
            "12\n",
            "12 月是冬天\n"
          ]
        }
      ]
    }
  ]
}